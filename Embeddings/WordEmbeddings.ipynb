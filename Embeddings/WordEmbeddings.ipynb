{
  "cells": [
    {
      "cell_type": "code",
      "execution_count": null,
      "metadata": {
        "colab": {
          "base_uri": "https://localhost:8080/"
        },
        "id": "m9ZX-Rh9pdHY",
        "outputId": "8b62fdd8-22fa-4f0d-cf38-629ffe40c7ed"
      },
      "outputs": [
        {
          "output_type": "stream",
          "name": "stdout",
          "text": [
            "Mounted at /content/drive\n"
          ]
        }
      ],
      "source": [
        "from google.colab import drive\n",
        "drive.mount('/content/drive')"
      ]
    },
    {
      "cell_type": "code",
      "execution_count": null,
      "metadata": {
        "id": "0o8rNXnUpjH-"
      },
      "outputs": [],
      "source": [
        "import pandas as pd\n",
        "import numpy as np\n",
        "import tensorflow as tf \n",
        "\n",
        "from sklearn.metrics import accuracy_score\n",
        "from sklearn.metrics import precision_score\n",
        "from sklearn.metrics import recall_score\n",
        "from sklearn.metrics import f1_score\n",
        "from sklearn.metrics import roc_auc_score\n",
        "from sklearn.metrics import confusion_matrix\n",
        "from sklearn.metrics import precision_recall_fscore_support\n",
        "from sklearn.model_selection import train_test_split\n",
        "\n",
        "from tensorflow import keras\n",
        "from keras.layers import LSTM, Bidirectional\n",
        "from keras.preprocessing import sequence\n",
        "from keras.models import Sequential\n",
        "from keras.layers import Dense, Dropout, Activation\n",
        "from keras.layers import Embedding\n",
        "from keras.layers import Conv1D, GlobalMaxPooling1D\n",
        "from keras.preprocessing.text import Tokenizer\n",
        "from keras.utils import np_utils\n",
        "from tensorflow.keras.utils import to_categorical\n",
        "from keras.layers import Flatten\n",
        "from keras.layers.convolutional import MaxPooling1D\n",
        "\n",
        "from nltk.corpus import stopwords\n",
        "from nltk import word_tokenize\n",
        "\n",
        "from gensim.models import KeyedVectors\n",
        "from gensim.models import Word2Vec\n",
        "from gensim.models import FastText\n"
      ]
    },
    {
      "cell_type": "code",
      "execution_count": null,
      "metadata": {
        "colab": {
          "base_uri": "https://localhost:8080/"
        },
        "id": "5QRibQCxpjK5",
        "outputId": "120db93f-00a9-41b1-dfdf-92a9d83eaef3"
      },
      "outputs": [
        {
          "output_type": "stream",
          "name": "stdout",
          "text": [
            "9526\n"
          ]
        }
      ],
      "source": [
        "# embedding_data = pd.read_csv('/content/drive/My Drive/Colab Notebooks/roman_urdu_cleaned_embeddings.csv')\n",
        "# print(len(embedding_data))\n",
        "depression_data = pd.read_csv('/content/drive/My Drive/Colab Notebooks/roman_urdu_all_data.csv')\n",
        "print(len(depression_data))\n",
        "# embedding_data = embedding_data.append(depression_data, ignore_index=True)\n",
        "# embedding_data = embedding_data.astype(str)"
      ]
    },
    {
      "cell_type": "code",
      "execution_count": null,
      "metadata": {
        "id": "vqNw-_zwoh3N"
      },
      "outputs": [],
      "source": [
        "# df_temp = embedding_data.sample(frac = .05)\n",
        "# df_temp = embedding_data"
      ]
    },
    {
      "cell_type": "code",
      "execution_count": null,
      "metadata": {
        "colab": {
          "base_uri": "https://localhost:8080/"
        },
        "id": "hrLRr9qSoTS1",
        "outputId": "af17691a-f851-435a-81e2-2891ccd8e49c"
      },
      "outputs": [
        {
          "data": {
            "text/plain": [
              "511269"
            ]
          },
          "execution_count": 6,
          "metadata": {},
          "output_type": "execute_result"
        }
      ],
      "source": [
        "# len(df_temp['text'].values)"
      ]
    },
    {
      "cell_type": "code",
      "execution_count": null,
      "metadata": {
        "id": "BTWAGzn2QogC"
      },
      "outputs": [],
      "source": [
        "# sentence_list = df_temp['text'].apply(lambda x: x.split())"
      ]
    },
    {
      "cell_type": "markdown",
      "metadata": {
        "id": "GRjZ6cE7Pep0"
      },
      "source": [
        "# Word2Vec"
      ]
    },
    {
      "cell_type": "code",
      "execution_count": null,
      "metadata": {
        "id": "dKappko1pjbf"
      },
      "outputs": [],
      "source": [
        "w2vec = Word2Vec(sentences=sentence_list.tolist(), size=100, window=3, min_count=1, workers=4)"
      ]
    },
    {
      "cell_type": "code",
      "execution_count": null,
      "metadata": {
        "id": "FpXpPJdd3dmQ"
      },
      "outputs": [],
      "source": [
        "word_vectors = w2vec.wv\n",
        "word_vectors.save(\"/content/drive/My Drive/Colab Notebooks/word2vec.wordvectors\")"
      ]
    },
    {
      "cell_type": "markdown",
      "metadata": {
        "id": "sUGw5kR3PpzC"
      },
      "source": [
        "# FastText"
      ]
    },
    {
      "cell_type": "code",
      "execution_count": null,
      "metadata": {
        "id": "jyQlV3XOPo-F"
      },
      "outputs": [],
      "source": [
        "fText = FastText(sentence_list.tolist(), min_count=1)"
      ]
    },
    {
      "cell_type": "code",
      "execution_count": null,
      "metadata": {
        "id": "lx_vOulpQ52f"
      },
      "outputs": [],
      "source": [
        "word_vectors = fText.wv\n",
        "word_vectors.save(\"/content/drive/My Drive/Colab Notebooks/fText.wordvectors\")"
      ]
    },
    {
      "cell_type": "code",
      "execution_count": null,
      "metadata": {
        "id": "-NY0J8X-Sxzq"
      },
      "outputs": [],
      "source": [
        "wv = KeyedVectors.load(\"/content/drive/My Drive/Colab Notebooks/word2vec.wordvectors\", mmap='r')"
      ]
    },
    {
      "cell_type": "code",
      "execution_count": null,
      "metadata": {
        "colab": {
          "base_uri": "https://localhost:8080/"
        },
        "id": "SVJ6An-JM3RY",
        "outputId": "45e46e82-db1e-4647-d35d-cae432115b3e"
      },
      "outputs": [
        {
          "data": {
            "text/plain": [
              "[('dalali', 0.8341929912567139),\n",
              " ('gulami', 0.8176286816596985),\n",
              " ('burai', 0.813312828540802),\n",
              " ('rajneeti', 0.8071902990341187),\n",
              " ('adat', 0.806075394153595),\n",
              " ('dushmani', 0.8018604516983032),\n",
              " ('giri', 0.7974490523338318),\n",
              " ('kamai', 0.7870802879333496),\n",
              " ('mohabbat', 0.7855555415153503),\n",
              " ('gandagi', 0.7821147441864014)]"
            ]
          },
          "execution_count": 19,
          "metadata": {},
          "output_type": "execute_result"
        }
      ],
      "source": [
        "wv.most_similar('nafrat', topn=10)"
      ]
    },
    {
      "cell_type": "markdown",
      "metadata": {
        "id": "GzpxkPV5E6ZR"
      },
      "source": [
        "# Creating a embedding matrix"
      ]
    },
    {
      "cell_type": "code",
      "execution_count": null,
      "metadata": {
        "id": "9WKu0gebPl73"
      },
      "outputs": [],
      "source": [
        "wv = KeyedVectors.load(\"/content/drive/My Drive/Colab Notebooks/fText.wordvectors\", mmap='r')"
      ]
    },
    {
      "cell_type": "code",
      "execution_count": null,
      "metadata": {
        "id": "k2r2Nqa1FAsV"
      },
      "outputs": [],
      "source": [
        "depression_data = depression_data.astype(str)"
      ]
    },
    {
      "cell_type": "code",
      "execution_count": null,
      "metadata": {
        "id": "7vmVgjUlFAza"
      },
      "outputs": [],
      "source": [
        "x = np.array(depression_data['text'])\n",
        "y = np.array(depression_data['Label'])\n",
        "y = y.astype(float)\n",
        "y = y.astype(int)"
      ]
    },
    {
      "cell_type": "code",
      "execution_count": null,
      "metadata": {
        "id": "njhzUf-iFBOe"
      },
      "outputs": [],
      "source": [
        "tokenizer = Tokenizer()\n",
        "tokenizer.fit_on_texts(depression_data['text'].values)"
      ]
    },
    {
      "cell_type": "code",
      "execution_count": null,
      "metadata": {
        "id": "_uVPz89sFYIu"
      },
      "outputs": [],
      "source": [
        "vocab_size = len(tokenizer.word_index) + 1"
      ]
    },
    {
      "cell_type": "code",
      "execution_count": null,
      "metadata": {
        "id": "z6m2mIU9FkHo"
      },
      "outputs": [],
      "source": [
        "X_train, X_test, y_train, y_test = train_test_split(x, y, test_size=0.33, random_state=42)\n",
        "X_train = np.array(X_train)\n",
        "y_train = np.array(y_train)\n",
        "X_test = np.array(X_test)\n",
        "y_test = np.array(y_test)"
      ]
    },
    {
      "cell_type": "code",
      "execution_count": null,
      "metadata": {
        "id": "dPXiAsATFkJ7"
      },
      "outputs": [],
      "source": [
        "X_train = tokenizer.texts_to_sequences(X_train)\n",
        "X_test = tokenizer.texts_to_sequences(X_test)"
      ]
    },
    {
      "cell_type": "code",
      "execution_count": null,
      "metadata": {
        "id": "qDM4OIGtFkMC"
      },
      "outputs": [],
      "source": [
        "X_train = sequence.pad_sequences(X_train, maxlen=280)\n",
        "X_test = sequence.pad_sequences(X_test, maxlen=280)"
      ]
    },
    {
      "cell_type": "code",
      "execution_count": null,
      "metadata": {
        "id": "7I5YNvKHpjf8"
      },
      "outputs": [],
      "source": [
        "# create a weight matrix for words in training docs\n",
        "embedding_matrix = np.zeros((vocab_size, 100))\n",
        "for word, i in tokenizer.word_index.items():\n",
        "  if word in wv.vocab:\n",
        "    embedding_vector = wv[word]\n",
        "    if embedding_vector is not None:\n",
        "      embedding_matrix[i] = embedding_vector"
      ]
    },
    {
      "cell_type": "code",
      "execution_count": null,
      "metadata": {
        "id": "rjhjIaeVNyn3"
      },
      "outputs": [],
      "source": [
        "batch_size = 32\n",
        "epochs = 10"
      ]
    },
    {
      "cell_type": "markdown",
      "metadata": {
        "id": "EnIvrX__PEkW"
      },
      "source": [
        "# CNN\n"
      ]
    },
    {
      "cell_type": "code",
      "execution_count": null,
      "metadata": {
        "colab": {
          "base_uri": "https://localhost:8080/"
        },
        "id": "eakhqXk2PILq",
        "outputId": "fd45af0a-24af-4862-fb57-9faccb9dc59a"
      },
      "outputs": [
        {
          "output_type": "stream",
          "name": "stdout",
          "text": [
            "Model: \"sequential\"\n",
            "_________________________________________________________________\n",
            " Layer (type)                Output Shape              Param #   \n",
            "=================================================================\n",
            " embedding (Embedding)       (None, 280, 100)          2993600   \n",
            "                                                                 \n",
            " conv1d (Conv1D)             (None, 280, 128)          51328     \n",
            "                                                                 \n",
            " max_pooling1d (MaxPooling1D  (None, 140, 128)         0         \n",
            " )                                                               \n",
            "                                                                 \n",
            " conv1d_1 (Conv1D)           (None, 140, 64)           32832     \n",
            "                                                                 \n",
            " max_pooling1d_1 (MaxPooling  (None, 70, 64)           0         \n",
            " 1D)                                                             \n",
            "                                                                 \n",
            " conv1d_2 (Conv1D)           (None, 70, 32)            8224      \n",
            "                                                                 \n",
            " max_pooling1d_2 (MaxPooling  (None, 35, 32)           0         \n",
            " 1D)                                                             \n",
            "                                                                 \n",
            " flatten (Flatten)           (None, 1120)              0         \n",
            "                                                                 \n",
            " dense (Dense)               (None, 256)               286976    \n",
            "                                                                 \n",
            " dense_1 (Dense)             (None, 1)                 257       \n",
            "                                                                 \n",
            "=================================================================\n",
            "Total params: 3,373,217\n",
            "Trainable params: 379,617\n",
            "Non-trainable params: 2,993,600\n",
            "_________________________________________________________________\n"
          ]
        }
      ],
      "source": [
        "model = Sequential() \n",
        "# model.add(Embedding(vocab_size, 100, input_length=280))\n",
        "model.add(Embedding(vocab_size, 100, weights=[embedding_matrix], input_length=280, trainable=False))\n",
        "model.add(Conv1D(filters=128, kernel_size=4, padding='same', activation='relu'))\n",
        "model.add(MaxPooling1D(pool_size=2))\n",
        "model.add(Conv1D(filters=64, kernel_size=4, padding='same', activation='relu'))\n",
        "model.add(MaxPooling1D(pool_size=2))\n",
        "model.add(Conv1D(filters=32, kernel_size=4, padding='same', activation='relu'))\n",
        "model.add(MaxPooling1D(pool_size=2))\n",
        "model.add(Flatten())\n",
        "model.add(Dense(256, activation='relu'))\n",
        "model.add(Dense(1, activation='sigmoid'))\n",
        "model.compile(loss='binary_crossentropy', optimizer='adam', metrics=['accuracy'])\n",
        "model.summary()"
      ]
    },
    {
      "cell_type": "code",
      "execution_count": null,
      "metadata": {
        "colab": {
          "base_uri": "https://localhost:8080/"
        },
        "id": "3BbC8XnmPITN",
        "outputId": "fd97560b-7abb-4d6a-bdca-8a850518055b"
      },
      "outputs": [
        {
          "output_type": "stream",
          "name": "stdout",
          "text": [
            "Epoch 1/10\n",
            "200/200 - 33s - loss: 0.2445 - accuracy: 0.8808 - val_loss: 0.2281 - val_accuracy: 0.8890 - 33s/epoch - 166ms/step\n",
            "Epoch 2/10\n",
            "200/200 - 31s - loss: 0.1939 - accuracy: 0.9099 - val_loss: 0.2156 - val_accuracy: 0.8919 - 31s/epoch - 155ms/step\n",
            "Epoch 3/10\n",
            "200/200 - 22s - loss: 0.1598 - accuracy: 0.9284 - val_loss: 0.2443 - val_accuracy: 0.8877 - 22s/epoch - 111ms/step\n",
            "Epoch 4/10\n",
            "200/200 - 20s - loss: 0.1464 - accuracy: 0.9322 - val_loss: 0.2502 - val_accuracy: 0.8810 - 20s/epoch - 102ms/step\n",
            "Epoch 5/10\n",
            "200/200 - 20s - loss: 0.1015 - accuracy: 0.9600 - val_loss: 0.2877 - val_accuracy: 0.8896 - 20s/epoch - 102ms/step\n",
            "Epoch 6/10\n",
            "200/200 - 20s - loss: 0.0876 - accuracy: 0.9646 - val_loss: 0.2742 - val_accuracy: 0.8906 - 20s/epoch - 102ms/step\n",
            "Epoch 7/10\n",
            "200/200 - 21s - loss: 0.0807 - accuracy: 0.9702 - val_loss: 0.2869 - val_accuracy: 0.8912 - 21s/epoch - 105ms/step\n",
            "Epoch 8/10\n",
            "200/200 - 24s - loss: 0.0471 - accuracy: 0.9821 - val_loss: 0.4280 - val_accuracy: 0.8899 - 24s/epoch - 122ms/step\n",
            "Epoch 9/10\n",
            "200/200 - 20s - loss: 0.0698 - accuracy: 0.9734 - val_loss: 0.3837 - val_accuracy: 0.8909 - 20s/epoch - 102ms/step\n",
            "Epoch 10/10\n",
            "200/200 - 20s - loss: 0.0448 - accuracy: 0.9842 - val_loss: 0.3706 - val_accuracy: 0.8890 - 20s/epoch - 102ms/step\n",
            "Accuracy: 88.90%\n"
          ]
        }
      ],
      "source": [
        "history = model.fit(X_train, y_train, batch_size=32, epochs=epochs, validation_data=(X_test, y_test), verbose=2)\n",
        "# Getting score metrics from our model\n",
        "scores = model.evaluate(X_test, y_test, verbose=0)\n",
        "# Displays the accuracy of correct sentiment prediction over test data\n",
        "print(\"Accuracy: %.2f%%\" % (scores[1]*100))"
      ]
    },
    {
      "cell_type": "code",
      "execution_count": null,
      "metadata": {
        "id": "aG50eIPakX-H"
      },
      "outputs": [],
      "source": [
        "model.save('/content/drive/My Drive/Colab Notebooks/ft-CNN')"
      ]
    },
    {
      "cell_type": "code",
      "execution_count": null,
      "metadata": {
        "colab": {
          "base_uri": "https://localhost:8080/"
        },
        "id": "1P0GsvcmPIV_",
        "outputId": "76466731-9b87-4805-e453-68b169dec4fd"
      },
      "outputs": [
        {
          "output_type": "stream",
          "name": "stdout",
          "text": [
            "3144\n",
            "3144\n"
          ]
        }
      ],
      "source": [
        "CNN_test_pridict = model.predict(X_test) \n",
        "arr = []\n",
        "for i in range(len(CNN_test_pridict)):\n",
        "  if CNN_test_pridict[i]>=0.5:\n",
        "    arr.append(1)\n",
        "  else:\n",
        "    arr.append(0)\n",
        "print(len(arr))\n",
        "print(len(y_test))"
      ]
    },
    {
      "cell_type": "code",
      "execution_count": null,
      "metadata": {
        "colab": {
          "base_uri": "https://localhost:8080/"
        },
        "id": "FGymPkNYPIbI",
        "outputId": "fedc5606-75fa-42ad-8bdb-a464ef8a0842"
      },
      "outputs": [
        {
          "output_type": "stream",
          "name": "stdout",
          "text": [
            "fbeta_score on Testing Data is: [0.9324821  0.68811439]\n",
            "precision:  [0.92656671 0.70902394]\n",
            "recall:  [0.93847352 0.66840278]\n"
          ]
        }
      ],
      "source": [
        "precision, recall, fbeta_score, support = precision_recall_fscore_support(y_test,arr)\n",
        "print (\"fbeta_score on Testing Data is:\", fbeta_score)\n",
        "print('precision: ', precision)\n",
        "print('recall: ', recall)"
      ]
    },
    {
      "cell_type": "code",
      "execution_count": null,
      "metadata": {
        "colab": {
          "base_uri": "https://localhost:8080/",
          "height": 297
        },
        "id": "rbEwgQVA61Jj",
        "outputId": "abaf567c-b326-43b8-bbe7-93f33095ad58"
      },
      "outputs": [
        {
          "output_type": "execute_result",
          "data": {
            "text/plain": [
              "[Text(33.0, 0.5, 'True Labels'), Text(0.5, 15.0, 'Predicted Labels')]"
            ]
          },
          "metadata": {},
          "execution_count": 21
        },
        {
          "output_type": "display_data",
          "data": {
            "text/plain": [
              "<Figure size 432x288 with 2 Axes>"
            ],
            "image/png": "[encoded data removed]"
          },
          "metadata": {
            "needs_background": "light"
          }
        }
      ],
      "source": [
        "import seaborn as sns\n",
        "cf_matrix = confusion_matrix(y_test,arr)\n",
        "s = sns.heatmap(cf_matrix, annot=True, fmt='d', cmap=\"viridis\")\n",
        "s.set(xlabel='Predicted Labels', ylabel='True Labels')"
      ]
    },
    {
      "cell_type": "markdown",
      "metadata": {
        "id": "7oNFB1UEnJKT"
      },
      "source": [
        "# LSTM"
      ]
    },
    {
      "cell_type": "code",
      "execution_count": null,
      "metadata": {
        "colab": {
          "base_uri": "https://localhost:8080/"
        },
        "id": "RCK_PqZpnNWT",
        "outputId": "4c82a0e1-ad9d-4311-c003-8e999bd25c94"
      },
      "outputs": [
        {
          "output_type": "stream",
          "name": "stdout",
          "text": [
            "Model: \"sequential_1\"\n",
            "_________________________________________________________________\n",
            " Layer (type)                Output Shape              Param #   \n",
            "=================================================================\n",
            " embedding_1 (Embedding)     (None, 280, 100)          2993600   \n",
            "                                                                 \n",
            " lstm (LSTM)                 (None, 128)               117248    \n",
            "                                                                 \n",
            " dense_2 (Dense)             (None, 1)                 129       \n",
            "                                                                 \n",
            "=================================================================\n",
            "Total params: 3,110,977\n",
            "Trainable params: 117,377\n",
            "Non-trainable params: 2,993,600\n",
            "_________________________________________________________________\n"
          ]
        }
      ],
      "source": [
        "model = Sequential() \n",
        "# model.add(Embedding(vocab_size, 100, input_length=280))\n",
        "model.add(Embedding(vocab_size, 100, weights=[embedding_matrix], input_length=280, trainable=False))\n",
        "model.add(LSTM(128, dropout=0.2, recurrent_dropout=0.2))\n",
        "model.add(Dense(1, activation='sigmoid'))\n",
        "model.compile(loss='binary_crossentropy', optimizer='adam',  metrics=[tf.keras.metrics.Precision(), tf.keras.metrics.Recall()])\n",
        "model.summary()"
      ]
    },
    {
      "cell_type": "code",
      "execution_count": null,
      "metadata": {
        "colab": {
          "base_uri": "https://localhost:8080/"
        },
        "id": "0js5zQlcnNf0",
        "outputId": "3b2a1586-48e7-4c08-9419-d8bf6bcd5ca7"
      },
      "outputs": [
        {
          "output_type": "stream",
          "name": "stdout",
          "text": [
            "Epoch 1/10\n",
            "200/200 - 159s - loss: 0.3540 - precision: 0.6163 - recall: 0.3998 - val_loss: 0.2499 - val_precision: 0.6767 - val_recall: 0.5486 - 159s/epoch - 794ms/step\n",
            "Epoch 2/10\n",
            "200/200 - 154s - loss: 0.2496 - precision: 0.6585 - recall: 0.6645 - val_loss: 0.2254 - val_precision: 0.6693 - val_recall: 0.7309 - 154s/epoch - 772ms/step\n",
            "Epoch 3/10\n",
            "200/200 - 153s - loss: 0.2171 - precision: 0.6834 - recall: 0.7403 - val_loss: 0.2244 - val_precision: 0.6125 - val_recall: 0.9219 - 153s/epoch - 767ms/step\n",
            "Epoch 4/10\n",
            "200/200 - 154s - loss: 0.1932 - precision: 0.7215 - recall: 0.8137 - val_loss: 0.2066 - val_precision: 0.7060 - val_recall: 0.7170 - 154s/epoch - 769ms/step\n",
            "Epoch 5/10\n",
            "200/200 - 152s - loss: 0.2057 - precision: 0.7176 - recall: 0.7815 - val_loss: 0.2028 - val_precision: 0.6685 - val_recall: 0.8264 - 152s/epoch - 759ms/step\n",
            "Epoch 6/10\n",
            "200/200 - 153s - loss: 0.1745 - precision: 0.7530 - recall: 0.8244 - val_loss: 0.2068 - val_precision: 0.6516 - val_recall: 0.9028 - 153s/epoch - 767ms/step\n",
            "Epoch 7/10\n",
            "200/200 - 153s - loss: 0.1666 - precision: 0.7670 - recall: 0.8467 - val_loss: 0.1992 - val_precision: 0.7262 - val_recall: 0.7552 - 153s/epoch - 767ms/step\n",
            "Epoch 8/10\n",
            "200/200 - 157s - loss: 0.1514 - precision: 0.7872 - recall: 0.8541 - val_loss: 0.2008 - val_precision: 0.7008 - val_recall: 0.8090 - 157s/epoch - 787ms/step\n",
            "Epoch 9/10\n",
            "200/200 - 151s - loss: 0.1473 - precision: 0.7936 - recall: 0.8623 - val_loss: 0.2176 - val_precision: 0.6815 - val_recall: 0.8767 - 151s/epoch - 757ms/step\n",
            "Epoch 10/10\n",
            "200/200 - 153s - loss: 0.1352 - precision: 0.8240 - recall: 0.8722 - val_loss: 0.2023 - val_precision: 0.7128 - val_recall: 0.8316 - 153s/epoch - 765ms/step\n",
            "Accuracy: 71.28%\n"
          ]
        }
      ],
      "source": [
        "history = model.fit(X_train, y_train, batch_size=batch_size, epochs=epochs, validation_data=(X_test, y_test), verbose=2)\n",
        "# Getting score metrics from our model\n",
        "scores = model.evaluate(X_test, y_test, verbose=0)\n",
        "# Displays the accuracy of correct sentiment prediction over test data\n",
        "print(\"Accuracy: %.2f%%\" % (scores[1]*100))"
      ]
    },
    {
      "cell_type": "code",
      "execution_count": null,
      "metadata": {
        "colab": {
          "base_uri": "https://localhost:8080/"
        },
        "id": "z0JIyfn0kz6A",
        "outputId": "175dc6cf-e775-4ec9-e4e2-604da2259abd"
      },
      "outputs": [
        {
          "output_type": "stream",
          "name": "stderr",
          "text": [
            "WARNING:absl:<keras.layers.recurrent.LSTMCell object at 0x7f73b40839d0> has the same name 'LSTMCell' as a built-in Keras object. Consider renaming <class 'keras.layers.recurrent.LSTMCell'> to avoid naming conflicts when loading with `tf.keras.models.load_model`. If renaming is not possible, pass the object in the `custom_objects` parameter of the load function.\n"
          ]
        }
      ],
      "source": [
        "model.save('/content/drive/My Drive/Colab Notebooks/ft-LSTM')"
      ]
    },
    {
      "cell_type": "code",
      "execution_count": null,
      "metadata": {
        "colab": {
          "base_uri": "https://localhost:8080/"
        },
        "id": "lEYzCO08nNkt",
        "outputId": "b80afeb3-b61e-4d8a-b7f4-bed68c909162"
      },
      "outputs": [
        {
          "output_type": "stream",
          "name": "stdout",
          "text": [
            "3144\n",
            "3144\n"
          ]
        }
      ],
      "source": [
        "CNN_test_pridict = model.predict(X_test) \n",
        "arr = []\n",
        "for i in range(len(CNN_test_pridict)):\n",
        "  if CNN_test_pridict[i]>=0.5:\n",
        "    arr.append(1)\n",
        "  else:\n",
        "    arr.append(0)\n",
        "print(len(arr))\n",
        "print(len(y_test))"
      ]
    },
    {
      "cell_type": "code",
      "execution_count": null,
      "metadata": {
        "colab": {
          "base_uri": "https://localhost:8080/"
        },
        "id": "bsaasRsNnNnh",
        "outputId": "c54dcde4-19ff-4cf4-d3fb-72a130d179cd"
      },
      "outputs": [
        {
          "output_type": "stream",
          "name": "stdout",
          "text": [
            "fbeta_score on Testing Data is: [0.94246032 0.76762821]\n",
            "precision:  [0.96076052 0.71279762]\n",
            "recall:  [0.92484424 0.83159722]\n"
          ]
        }
      ],
      "source": [
        "precision, recall, fbeta_score, support = precision_recall_fscore_support(y_test,arr)\n",
        "print (\"fbeta_score on Testing Data is:\", fbeta_score)\n",
        "print('precision: ', precision)\n",
        "print('recall: ', recall)"
      ]
    },
    {
      "cell_type": "code",
      "execution_count": null,
      "metadata": {
        "colab": {
          "base_uri": "https://localhost:8080/",
          "height": 297
        },
        "id": "Dsh6aCMM7GFz",
        "outputId": "e63f361f-6363-4c88-e765-15f55b365f69"
      },
      "outputs": [
        {
          "output_type": "execute_result",
          "data": {
            "text/plain": [
              "[Text(33.0, 0.5, 'True Labels'), Text(0.5, 15.0, 'Predicted Labels')]"
            ]
          },
          "metadata": {},
          "execution_count": 27
        },
        {
          "output_type": "display_data",
          "data": {
            "text/plain": [
              "<Figure size 432x288 with 2 Axes>"
            ],
            "image/png": "[encoded data removed]"
          },
          "metadata": {
            "needs_background": "light"
          }
        }
      ],
      "source": [
        "cf_matrix = confusion_matrix(y_test,arr)\n",
        "s = sns.heatmap(cf_matrix, annot=True, fmt='d', cmap=\"viridis\")\n",
        "s.set(xlabel='Predicted Labels', ylabel='True Labels')"
      ]
    },
    {
      "cell_type": "markdown",
      "metadata": {
        "id": "y7j2Jbz6M32b"
      },
      "source": [
        "# Bi-LSTM"
      ]
    },
    {
      "cell_type": "code",
      "execution_count": null,
      "metadata": {
        "colab": {
          "base_uri": "https://localhost:8080/"
        },
        "id": "Q4ZwQLxAnNp3",
        "outputId": "6d2f52ec-a62b-4471-acb6-0f4e5640b912"
      },
      "outputs": [
        {
          "output_type": "stream",
          "name": "stdout",
          "text": [
            "Model: \"sequential_2\"\n",
            "_________________________________________________________________\n",
            " Layer (type)                Output Shape              Param #   \n",
            "=================================================================\n",
            " embedding_2 (Embedding)     (None, 280, 100)          2993600   \n",
            "                                                                 \n",
            " bidirectional (Bidirectiona  (None, 256)              234496    \n",
            " l)                                                              \n",
            "                                                                 \n",
            " dense_3 (Dense)             (None, 1)                 257       \n",
            "                                                                 \n",
            "=================================================================\n",
            "Total params: 3,228,353\n",
            "Trainable params: 234,753\n",
            "Non-trainable params: 2,993,600\n",
            "_________________________________________________________________\n"
          ]
        }
      ],
      "source": [
        "model = Sequential() \n",
        "model.add(Embedding(vocab_size, 100, weights=[embedding_matrix], input_length=280, trainable=False))\n",
        "model.add(Bidirectional(LSTM(128, dropout=0.2, recurrent_dropout=0.2)))\n",
        "model.add(Dense(1, activation='sigmoid'))\n",
        "model.compile(loss='binary_crossentropy', optimizer='adam',  metrics=[tf.keras.metrics.Precision(), tf.keras.metrics.Recall()])\n",
        "model.summary()"
      ]
    },
    {
      "cell_type": "code",
      "execution_count": null,
      "metadata": {
        "colab": {
          "base_uri": "https://localhost:8080/"
        },
        "id": "gOzXSpBvNoZg",
        "outputId": "68ed77a3-082c-43ab-d87e-b3bafc57486c"
      },
      "outputs": [
        {
          "output_type": "stream",
          "name": "stdout",
          "text": [
            "Epoch 1/10\n",
            "200/200 - 307s - loss: 0.3542 - precision_1: 0.6088 - recall_1: 0.3669 - val_loss: 0.2531 - val_precision_1: 0.6164 - val_recall_1: 0.7951 - 307s/epoch - 2s/step\n",
            "Epoch 2/10\n",
            "200/200 - 300s - loss: 0.2489 - precision_1: 0.6524 - recall_1: 0.6933 - val_loss: 0.2217 - val_precision_1: 0.6560 - val_recall_1: 0.7812 - 300s/epoch - 2s/step\n",
            "Epoch 3/10\n",
            "200/200 - 298s - loss: 0.2125 - precision_1: 0.6865 - recall_1: 0.7799 - val_loss: 0.2124 - val_precision_1: 0.6469 - val_recall_1: 0.8333 - 298s/epoch - 1s/step\n",
            "Epoch 4/10\n",
            "200/200 - 302s - loss: 0.1951 - precision_1: 0.7067 - recall_1: 0.8145 - val_loss: 0.2121 - val_precision_1: 0.6592 - val_recall_1: 0.8628 - 302s/epoch - 2s/step\n",
            "Epoch 5/10\n",
            "200/200 - 303s - loss: 0.1905 - precision_1: 0.7257 - recall_1: 0.8112 - val_loss: 0.2095 - val_precision_1: 0.6345 - val_recall_1: 0.8681 - 303s/epoch - 2s/step\n",
            "Epoch 6/10\n",
            "200/200 - 308s - loss: 0.1786 - precision_1: 0.7453 - recall_1: 0.8203 - val_loss: 0.2111 - val_precision_1: 0.6434 - val_recall_1: 0.8958 - 308s/epoch - 2s/step\n",
            "Epoch 7/10\n",
            "200/200 - 300s - loss: 0.1625 - precision_1: 0.7695 - recall_1: 0.8450 - val_loss: 0.2025 - val_precision_1: 0.7189 - val_recall_1: 0.7014 - 300s/epoch - 2s/step\n",
            "Epoch 8/10\n",
            "200/200 - 302s - loss: 0.1570 - precision_1: 0.7729 - recall_1: 0.8475 - val_loss: 0.2106 - val_precision_1: 0.7628 - val_recall_1: 0.6979 - 302s/epoch - 2s/step\n",
            "Epoch 9/10\n",
            "200/200 - 299s - loss: 0.1476 - precision_1: 0.8045 - recall_1: 0.8483 - val_loss: 0.2227 - val_precision_1: 0.6491 - val_recall_1: 0.8993 - 299s/epoch - 1s/step\n",
            "Epoch 10/10\n",
            "200/200 - 303s - loss: 0.1384 - precision_1: 0.8097 - recall_1: 0.8697 - val_loss: 0.2111 - val_precision_1: 0.7132 - val_recall_1: 0.7899 - 303s/epoch - 2s/step\n",
            "Accuracy: 71.32%\n"
          ]
        }
      ],
      "source": [
        "history = model.fit(X_train, y_train, batch_size=batch_size, epochs=epochs, validation_data=(X_test, y_test), verbose=2)\n",
        "# Getting score metrics from our model\n",
        "scores = model.evaluate(X_test, y_test, verbose=0)\n",
        "# Displays the accuracy of correct sentiment prediction over test data\n",
        "print(\"Accuracy: %.2f%%\" % (scores[1]*100))"
      ]
    },
    {
      "cell_type": "code",
      "execution_count": null,
      "metadata": {
        "colab": {
          "base_uri": "https://localhost:8080/"
        },
        "id": "A3fMkYHCk5UA",
        "outputId": "2d7c78b5-51ab-4f76-9c64-4e6e1967ea95"
      },
      "outputs": [
        {
          "output_type": "stream",
          "name": "stderr",
          "text": [
            "WARNING:absl:<keras.layers.recurrent.LSTMCell object at 0x7f73b0dd9050> has the same name 'LSTMCell' as a built-in Keras object. Consider renaming <class 'keras.layers.recurrent.LSTMCell'> to avoid naming conflicts when loading with `tf.keras.models.load_model`. If renaming is not possible, pass the object in the `custom_objects` parameter of the load function.\n",
            "WARNING:absl:<keras.layers.recurrent.LSTMCell object at 0x7f73b0e0cbd0> has the same name 'LSTMCell' as a built-in Keras object. Consider renaming <class 'keras.layers.recurrent.LSTMCell'> to avoid naming conflicts when loading with `tf.keras.models.load_model`. If renaming is not possible, pass the object in the `custom_objects` parameter of the load function.\n"
          ]
        }
      ],
      "source": [
        "model.save('/content/drive/My Drive/Colab Notebooks/ft-BILSTM')"
      ]
    },
    {
      "cell_type": "code",
      "execution_count": null,
      "metadata": {
        "colab": {
          "base_uri": "https://localhost:8080/"
        },
        "id": "u--c_hmoNocJ",
        "outputId": "98df1e4d-aa41-4d72-e58a-b9064d73e3b3"
      },
      "outputs": [
        {
          "output_type": "stream",
          "name": "stdout",
          "text": [
            "3144\n",
            "3144\n"
          ]
        }
      ],
      "source": [
        "CNN_test_pridict = model.predict(X_test) \n",
        "arr = []\n",
        "for i in range(len(CNN_test_pridict)):\n",
        "  if CNN_test_pridict[i]>=0.5:\n",
        "    arr.append(1)\n",
        "  else:\n",
        "    arr.append(0)\n",
        "print(len(arr))\n",
        "print(len(y_test))"
      ]
    },
    {
      "cell_type": "code",
      "execution_count": null,
      "metadata": {
        "colab": {
          "base_uri": "https://localhost:8080/"
        },
        "id": "_VolfOowNoey",
        "outputId": "976a4a2a-b429-49dc-df36-dfbbcc7de815"
      },
      "outputs": [
        {
          "output_type": "stream",
          "name": "stdout",
          "text": [
            "fbeta_score on Testing Data is: [0.94008672 0.74958814]\n",
            "precision:  [0.95171588 0.71316614]\n",
            "recall:  [0.92873832 0.78993056]\n"
          ]
        }
      ],
      "source": [
        "precision, recall, fbeta_score, support = precision_recall_fscore_support(y_test,arr)\n",
        "print (\"fbeta_score on Testing Data is:\", fbeta_score)\n",
        "print('precision: ', precision)\n",
        "print('recall: ', recall)"
      ]
    },
    {
      "cell_type": "code",
      "execution_count": null,
      "metadata": {
        "colab": {
          "base_uri": "https://localhost:8080/",
          "height": 297
        },
        "id": "c_mLH5k3Nohs",
        "outputId": "87d4a249-d943-4e19-a394-222f0ec68c51"
      },
      "outputs": [
        {
          "output_type": "execute_result",
          "data": {
            "text/plain": [
              "[Text(33.0, 0.5, 'True Labels'), Text(0.5, 15.0, 'Predicted Labels')]"
            ]
          },
          "metadata": {},
          "execution_count": 33
        },
        {
          "output_type": "display_data",
          "data": {
            "text/plain": [
              "<Figure size 432x288 with 2 Axes>"
            ],
            "image/png": "[encoded data removed]"
          },
          "metadata": {
            "needs_background": "light"
          }
        }
      ],
      "source": [
        "cf_matrix = confusion_matrix(y_test,arr)\n",
        "s = sns.heatmap(cf_matrix, annot=True, fmt='d', cmap=\"viridis\")\n",
        "s.set(xlabel='Predicted Labels', ylabel='True Labels')"
      ]
    }
  ],
  "metadata": {
    "colab": {
      "provenance": []
    },
    "kernelspec": {
      "display_name": "Python 3",
      "name": "python3"
    },
    "language_info": {
      "name": "python"
    }
  },
  "nbformat": 4,
  "nbformat_minor": 0
}