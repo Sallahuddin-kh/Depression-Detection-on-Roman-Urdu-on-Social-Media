{
 "cells": [
  {
   "cell_type": "code",
   "execution_count": 1,
   "id": "e25a57d8",
   "metadata": {},
   "outputs": [],
   "source": [
    "import pandas as pd\n",
    "from sklearn.feature_extraction.text import CountVectorizer\n",
    "from sklearn.feature_extraction.text import TfidfTransformer\n",
    "from sklearn.naive_bayes import MultinomialNB\n",
    "from sklearn.linear_model import LogisticRegression\n",
    "from sklearn.metrics import precision_score, recall_score\n",
    "from sklearn.metrics import accuracy_score\n",
    "from sklearn.metrics import f1_score\n",
    "from sklearn import model_selection, svm\n",
    "from sklearn.model_selection import RepeatedKFold\n",
    "from sklearn.model_selection import cross_val_score\n",
    "from scipy.stats import sem\n",
    "from numpy import mean\n",
    "from numpy import std"
   ]
  },
  {
   "cell_type": "code",
   "execution_count": 2,
   "id": "873d3ee0",
   "metadata": {},
   "outputs": [
    {
     "name": "stdout",
     "output_type": "stream",
     "text": [
      "(9526, 8)\n"
     ]
    }
   ],
   "source": [
    "all_df = pd.read_csv('roman_urdu_all_data.csv')\n",
    "all_df = all_df.astype(str)\n",
    "print(all_df.shape)\n",
    "y = all_df['Label']\n",
    "y = y.astype(float)\n",
    "y = y.astype(int)"
   ]
  },
  {
   "cell_type": "code",
   "execution_count": 3,
   "id": "a68a6e23",
   "metadata": {},
   "outputs": [
    {
     "name": "stdout",
     "output_type": "stream",
     "text": [
      "28606\n",
      "(9526, 28606)\n"
     ]
    }
   ],
   "source": [
    "bow_converter = CountVectorizer()\n",
    "bow_x = bow_converter.fit_transform(all_df['text'])\n",
    "words = bow_converter.get_feature_names_out()\n",
    "print(len(words))\n",
    "print(bow_x.shape)"
   ]
  },
  {
   "cell_type": "code",
   "execution_count": 4,
   "id": "04bd1e75",
   "metadata": {},
   "outputs": [
    {
     "name": "stdout",
     "output_type": "stream",
     "text": [
      "28606\n",
      "(9526, 28606)\n"
     ]
    }
   ],
   "source": [
    "bow_converter = CountVectorizer()\n",
    "bow_x = bow_converter.fit_transform(all_df['text'])\n",
    "words = bow_converter.get_feature_names_out()\n",
    "print(len(words))\n",
    "print(bow_x.shape)"
   ]
  },
  {
   "cell_type": "code",
   "execution_count": 5,
   "id": "d2c287e4",
   "metadata": {},
   "outputs": [
    {
     "name": "stdout",
     "output_type": "stream",
     "text": [
      "(9526, 28606)\n"
     ]
    }
   ],
   "source": [
    "tfidf_transform = TfidfTransformer(norm=None)\n",
    "tfidf_x = tfidf_transform.fit_transform(bow_x)\n",
    "print(tfidf_x.shape)"
   ]
  },
  {
   "cell_type": "code",
   "execution_count": 6,
   "id": "826047b1",
   "metadata": {},
   "outputs": [
    {
     "name": "stdout",
     "output_type": "stream",
     "text": [
      "(9526, 134987)\n"
     ]
    }
   ],
   "source": [
    "bigram_converter = CountVectorizer(ngram_range=[1,2])\n",
    "bigram_x = bigram_converter.fit_transform(all_df['text'])\n",
    "print(bigram_x.shape)"
   ]
  },
  {
   "cell_type": "code",
   "execution_count": 7,
   "id": "8eb1d90a",
   "metadata": {},
   "outputs": [],
   "source": [
    "def evaluate_model_NB(X, y, repeats, eval_metric):\n",
    "    cv = RepeatedKFold(n_splits=5, n_repeats=repeats, random_state=1)\n",
    "    model = MultinomialNB()\n",
    "    scores = cross_val_score(model, X, y, scoring= eval_metric, cv=cv, n_jobs=2)\n",
    "    print(f'{eval_metric} for NB mean={mean(scores)} se={sem(scores)}')\n",
    "    return scores\n",
    "def evaluate_model_logistic_regression(X, y, repeats, eval_metric):\n",
    "    cv = RepeatedKFold(n_splits=5, n_repeats=repeats, random_state=1)\n",
    "    model = LogisticRegression(max_iter = 1000)\n",
    "    scores = cross_val_score(model, X, y, scoring= eval_metric, cv=cv, n_jobs=2)\n",
    "    print(f'{eval_metric} for Logistic Regression mean={mean(scores)} se={sem(scores)}')\n",
    "    return scores\n",
    "def evaluate_model_svm(X, y, repeats, eval_metric):\n",
    "    cv = RepeatedKFold(n_splits=5, n_repeats=repeats, random_state=1)\n",
    "    model = svm.SVC(C=1.0, kernel='linear', degree=3, gamma='auto')\n",
    "    scores = cross_val_score(model, X, y, scoring= eval_metric, cv=cv, n_jobs=2)\n",
    "    print(f'{eval_metric} for SVM mean={mean(scores)} se={sem(scores)}')\n",
    "    return scores"
   ]
  },
  {
   "cell_type": "code",
   "execution_count": 8,
   "id": "39276e5a",
   "metadata": {},
   "outputs": [],
   "source": [
    "def get_scores(data):\n",
    "    logistic_regression = evaluate_model_logistic_regression(data, y, 8,'f1')\n",
    "    NB = evaluate_model_NB(data, y, 8 , 'f1')\n",
    "    svm = evaluate_model_svm(data, y, 8 , 'f1')\n",
    "    return{\n",
    "        'logistic regression' : logistic_regression,\n",
    "        'NB' : NB,\n",
    "        'svm' : svm\n",
    "    }"
   ]
  },
  {
   "cell_type": "code",
   "execution_count": 9,
   "id": "3d7ebba3",
   "metadata": {},
   "outputs": [
    {
     "name": "stdout",
     "output_type": "stream",
     "text": [
      "f1 for Logistic Regression mean=0.7340907524289333 se=0.0023252072659527626\n",
      "f1 for NB mean=0.5874747194129605 se=0.002987822875312841\n",
      "f1 for SVM mean=0.7181816103386417 se=0.002413657231323022\n"
     ]
    },
    {
     "data": {
      "text/plain": [
       "{'logistic regression': array([0.72299169, 0.71759891, 0.75466284, 0.7416332 , 0.74033149,\n",
       "        0.728     , 0.72131148, 0.73264402, 0.72682324, 0.72899729,\n",
       "        0.72827586, 0.7369863 , 0.73224044, 0.75      , 0.73184358,\n",
       "        0.73624824, 0.73841962, 0.73954116, 0.72150072, 0.74054759,\n",
       "        0.73446328, 0.71564626, 0.77470356, 0.71888112, 0.72777778,\n",
       "        0.75      , 0.73626374, 0.73726542, 0.73698264, 0.73185185,\n",
       "        0.7563249 , 0.7700831 , 0.6920904 , 0.72167832, 0.71657754,\n",
       "        0.73254282, 0.74366197, 0.72984441, 0.73082287, 0.73557047]),\n",
       " 'NB': array([0.57581967, 0.60081466, 0.58638743, 0.5782652 , 0.59899497,\n",
       "        0.60441767, 0.53893443, 0.59201774, 0.58666667, 0.61459404,\n",
       "        0.58666667, 0.60931174, 0.56306761, 0.60385005, 0.58738366,\n",
       "        0.6       , 0.5891947 , 0.57311089, 0.55150884, 0.60433071,\n",
       "        0.57082896, 0.60587639, 0.59587021, 0.5932914 , 0.5786802 ,\n",
       "        0.59340659, 0.599182  , 0.60913706, 0.562     , 0.56377278,\n",
       "        0.61477046, 0.60643821, 0.55108359, 0.58551941, 0.57915832,\n",
       "        0.61293532, 0.60377358, 0.57345491, 0.56635319, 0.58811881]),\n",
       " 'svm': array([0.72      , 0.70151307, 0.74820144, 0.73369565, 0.70108696,\n",
       "        0.70241287, 0.71111111, 0.70464768, 0.71717172, 0.72099448,\n",
       "        0.74002751, 0.72275862, 0.73050616, 0.72139973, 0.71309192,\n",
       "        0.72475795, 0.70572207, 0.7292517 , 0.69956459, 0.72083879,\n",
       "        0.7311522 , 0.7073509 , 0.75362319, 0.68644068, 0.71388889,\n",
       "        0.73727648, 0.71388889, 0.71370421, 0.72533333, 0.70409712,\n",
       "        0.73424658, 0.73931034, 0.6970128 , 0.71306818, 0.689747  ,\n",
       "        0.72965879, 0.72727273, 0.71098266, 0.71910112, 0.71135431])}"
      ]
     },
     "execution_count": 9,
     "metadata": {},
     "output_type": "execute_result"
    }
   ],
   "source": [
    "get_scores(bigram_x)"
   ]
  },
  {
   "cell_type": "code",
   "execution_count": 10,
   "id": "a7cc9f0c",
   "metadata": {},
   "outputs": [
    {
     "name": "stdout",
     "output_type": "stream",
     "text": [
      "f1 for Logistic Regression mean=0.7047838770870992 se=0.002727899820213779\n",
      "f1 for NB mean=0.5536845856073291 se=0.0030419303459276307\n",
      "f1 for SVM mean=0.6924206735784356 se=0.002997989400467908\n"
     ]
    },
    {
     "data": {
      "text/plain": [
       "{'logistic regression': array([0.71041369, 0.685633  , 0.71150972, 0.72447552, 0.70791367,\n",
       "        0.71369295, 0.68923077, 0.72782875, 0.68983269, 0.69153515,\n",
       "        0.69727403, 0.69714286, 0.70014347, 0.70438472, 0.71597633,\n",
       "        0.69577875, 0.72389127, 0.73626374, 0.67173252, 0.72334683,\n",
       "        0.71281296, 0.69985775, 0.72676056, 0.67660209, 0.70487106,\n",
       "        0.73136428, 0.69411765, 0.69101124, 0.70521862, 0.69135802,\n",
       "        0.73566434, 0.72459499, 0.66469719, 0.68529412, 0.69832402,\n",
       "        0.68984701, 0.71659325, 0.70254111, 0.70911722, 0.71270718]),\n",
       " 'NB': array([0.53865979, 0.55729167, 0.56878307, 0.55737705, 0.5707196 ,\n",
       "        0.55031847, 0.51052632, 0.56      , 0.57344301, 0.59037711,\n",
       "        0.57777778, 0.55729167, 0.53768844, 0.54780362, 0.55526316,\n",
       "        0.55851064, 0.53896962, 0.55745721, 0.51587302, 0.57428215,\n",
       "        0.55080214, 0.57252888, 0.54956085, 0.54188482, 0.53055917,\n",
       "        0.56091371, 0.56185567, 0.55483871, 0.53571429, 0.53150685,\n",
       "        0.58429858, 0.57068063, 0.53964194, 0.55480379, 0.52442159,\n",
       "        0.53467844, 0.59501966, 0.55584416, 0.56763926, 0.53177691]),\n",
       " 'svm': array([0.68852459, 0.67578659, 0.70940171, 0.7077748 , 0.69459459,\n",
       "        0.71410091, 0.67647059, 0.70434783, 0.65408805, 0.69876204,\n",
       "        0.7047619 , 0.68253968, 0.69002695, 0.67034483, 0.69370629,\n",
       "        0.68603043, 0.71428571, 0.72170439, 0.67052023, 0.71299871,\n",
       "        0.71086037, 0.68225585, 0.717477  , 0.66854725, 0.70652174,\n",
       "        0.70698925, 0.66391185, 0.70241287, 0.7016129 , 0.68376068,\n",
       "        0.73421053, 0.70344828, 0.65329513, 0.67130919, 0.67019868,\n",
       "        0.68511199, 0.70422535, 0.69044223, 0.68137931, 0.68808568])}"
      ]
     },
     "execution_count": 10,
     "metadata": {},
     "output_type": "execute_result"
    }
   ],
   "source": [
    "get_scores(bow_x)"
   ]
  },
  {
   "cell_type": "code",
   "execution_count": 11,
   "id": "b0ec698d",
   "metadata": {},
   "outputs": [
    {
     "name": "stdout",
     "output_type": "stream",
     "text": [
      "f1 for Logistic Regression mean=0.6838699521965543 se=0.0034661219436301154\n",
      "f1 for NB mean=0.4895480239414892 se=0.002283689991901065\n",
      "f1 for SVM mean=0.6241281758923295 se=0.0035647320585654673\n"
     ]
    },
    {
     "data": {
      "text/plain": [
       "{'logistic regression': array([0.71428571, 0.67597765, 0.69653179, 0.68917018, 0.6741573 ,\n",
       "        0.7065073 , 0.64371257, 0.71240876, 0.66223404, 0.64957265,\n",
       "        0.69637883, 0.67683773, 0.68775791, 0.6751773 , 0.67048711,\n",
       "        0.67625899, 0.69121813, 0.71718539, 0.64739884, 0.688     ,\n",
       "        0.70144928, 0.68619247, 0.72554348, 0.65616046, 0.69198312,\n",
       "        0.72086721, 0.6512301 , 0.68673051, 0.68150209, 0.67368421,\n",
       "        0.72451791, 0.68489209, 0.64957265, 0.64927536, 0.6875    ,\n",
       "        0.69115646, 0.69142857, 0.67067669, 0.69252874, 0.6866485 ]),\n",
       " 'NB': array([0.49701493, 0.50408922, 0.48105182, 0.48802395, 0.48845867,\n",
       "        0.48675734, 0.47344461, 0.47535771, 0.49819495, 0.51345119,\n",
       "        0.47725578, 0.49963262, 0.48134044, 0.49454545, 0.49402985,\n",
       "        0.48976497, 0.4887218 , 0.50668648, 0.44954128, 0.49889949,\n",
       "        0.45914397, 0.50518519, 0.50700074, 0.49319213, 0.49107143,\n",
       "        0.50702143, 0.48970252, 0.49315068, 0.48937729, 0.47194466,\n",
       "        0.49487555, 0.48539326, 0.46365723, 0.48721805, 0.49854227,\n",
       "        0.50568182, 0.49340574, 0.46596067, 0.48179706, 0.51233672]),\n",
       " 'svm': array([0.67302452, 0.60824742, 0.64606742, 0.60393258, 0.60356653,\n",
       "        0.62631579, 0.55942029, 0.63835616, 0.62385321, 0.62312925,\n",
       "        0.63201094, 0.64420485, 0.61641992, 0.61964039, 0.60738714,\n",
       "        0.61322082, 0.61645746, 0.64659686, 0.6022409 , 0.61738003,\n",
       "        0.64285714, 0.64010624, 0.63588391, 0.58856346, 0.61148198,\n",
       "        0.67466667, 0.61386139, 0.63337714, 0.62686567, 0.60471976,\n",
       "        0.632     , 0.6442577 , 0.58873239, 0.59663866, 0.62239583,\n",
       "        0.64635762, 0.65181058, 0.61560694, 0.63421419, 0.63925729])}"
      ]
     },
     "execution_count": 11,
     "metadata": {},
     "output_type": "execute_result"
    }
   ],
   "source": [
    "get_scores(tfidf_x)"
   ]
  },
  {
   "cell_type": "code",
   "execution_count": 12,
   "id": "ba297f16",
   "metadata": {},
   "outputs": [
    {
     "name": "stdout",
     "output_type": "stream",
     "text": [
      "f1 score if all predicted are positive 0.18780180558471551\n"
     ]
    }
   ],
   "source": [
    "from sklearn.metrics import accuracy_score\n",
    "baseline_pos = [1 for i in range(len(y))]\n",
    "print(f'f1 score if all predicted are positive {accuracy_score(y, baseline_pos)}')"
   ]
  }
 ],
 "metadata": {
  "kernelspec": {
   "display_name": "Python 3 (ipykernel)",
   "language": "python",
   "name": "python3"
  },
  "language_info": {
   "codemirror_mode": {
    "name": "ipython",
    "version": 3
   },
   "file_extension": ".py",
   "mimetype": "text/x-python",
   "name": "python",
   "nbconvert_exporter": "python",
   "pygments_lexer": "ipython3",
   "version": "3.8.10"
  }
 },
 "nbformat": 4,
 "nbformat_minor": 5
}
