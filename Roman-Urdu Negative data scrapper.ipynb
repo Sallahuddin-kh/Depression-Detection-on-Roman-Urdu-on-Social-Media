{
 "cells": [
  {
   "cell_type": "code",
   "execution_count": 1,
   "id": "5e0590ba",
   "metadata": {},
   "outputs": [],
   "source": [
    "import snscrape.modules.twitter as sntwitter\n",
    "import pandas as pd\n",
    "import datetime as dt\n",
    "from dateutil.relativedelta import relativedelta"
   ]
  },
  {
   "cell_type": "code",
   "execution_count": 3,
   "id": "1ef6db73",
   "metadata": {},
   "outputs": [],
   "source": [
    "keywords = ['money']"
   ]
  },
  {
   "cell_type": "code",
   "execution_count": 5,
   "id": "f6afa444",
   "metadata": {},
   "outputs": [
    {
     "name": "stdout",
     "output_type": "stream",
     "text": [
      "money\n"
     ]
    },
    {
     "name": "stderr",
     "output_type": "stream",
     "text": [
      "/tmp/ipykernel_63661/1184916638.py:6: FutureWarning: content is deprecated, use rawContent instead\n",
      "  tweets_list.append([search_keyword, tweet.date, tweet.id, tweet.content, tweet.user.username])\n",
      "Unsupported unified_card type on tweet 1557323959108083718\n"
     ]
    },
    {
     "name": "stdout",
     "output_type": "stream",
     "text": [
      "201\n",
      "Making file\n"
     ]
    }
   ],
   "source": [
    "tweets_list = []\n",
    "for keyword in keywords:\n",
    "    search_keyword = \"\\\"\"+keyword+\"\\\"\"\n",
    "    f'money user.name = {username}'\n",
    "    print(keyword)\n",
    "    for i,tweet in enumerate(sntwitter.TwitterSearchScraper(search_keyword).get_items()):\n",
    "        tweets_list.append([search_keyword, tweet.date, tweet.id, tweet.content, tweet.user.username])\n",
    "        if i >= 200:\n",
    "            break\n",
    "print(len(tweets_list))\n",
    "tweets_df = pd.DataFrame(tweets_list, columns=['search_string', 'date', 'tweet Id', 'text', 'username'])\n",
    "tweets_df = tweets_df.drop_duplicates()\n",
    "print('Making file')\n",
    "tweets_df.to_csv('example_file.csv', sep=',', index=False) "
   ]
  },
  {
   "cell_type": "code",
   "execution_count": 8,
   "id": "b14689c9",
   "metadata": {},
   "outputs": [
    {
     "name": "stdout",
     "output_type": "stream",
     "text": [
      "7640\n"
     ]
    }
   ],
   "source": [
    "print(len(tweets_list))"
   ]
  },
  {
   "cell_type": "code",
   "execution_count": null,
   "id": "ce426565",
   "metadata": {},
   "outputs": [],
   "source": []
  }
 ],
 "metadata": {
  "kernelspec": {
   "display_name": "Python 3 (ipykernel)",
   "language": "python",
   "name": "python3"
  },
  "language_info": {
   "codemirror_mode": {
    "name": "ipython",
    "version": 3
   },
   "file_extension": ".py",
   "mimetype": "text/x-python",
   "name": "python",
   "nbconvert_exporter": "python",
   "pygments_lexer": "ipython3",
   "version": "3.8.10"
  }
 },
 "nbformat": 4,
 "nbformat_minor": 5
}
