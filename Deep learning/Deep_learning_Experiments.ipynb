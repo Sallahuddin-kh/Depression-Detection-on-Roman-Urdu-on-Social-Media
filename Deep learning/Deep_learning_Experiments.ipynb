{
  "cells": [
    {
      "cell_type": "code",
      "execution_count": null,
      "metadata": {
        "colab": {
          "base_uri": "https://localhost:8080/"
        },
        "id": "rlKe1pGamvi0",
        "outputId": "5736e113-5397-41c4-fe0c-4575e9109e21"
      },
      "outputs": [
        {
          "output_type": "stream",
          "name": "stdout",
          "text": [
            "Mounted at /content/drive\n"
          ]
        }
      ],
      "source": [
        "from google.colab import drive\n",
        "drive.mount('/content/drive')"
      ]
    },
    {
      "cell_type": "code",
      "execution_count": null,
      "metadata": {
        "id": "YG7CdM5ZnQS7"
      },
      "outputs": [],
      "source": [
        "import pandas as pd\n",
        "import numpy as np\n",
        "\n",
        "from sklearn.metrics import accuracy_score\n",
        "from sklearn.metrics import precision_score\n",
        "from sklearn.metrics import recall_score\n",
        "from sklearn.metrics import f1_score\n",
        "from sklearn.metrics import roc_auc_score\n",
        "from sklearn.metrics import confusion_matrix\n",
        "from sklearn.metrics import precision_recall_fscore_support\n",
        "from sklearn.model_selection import train_test_split\n",
        "\n",
        "from tensorflow import keras\n",
        "from keras.layers import LSTM, Bidirectional\n",
        "from keras.preprocessing import sequence\n",
        "from keras.models import Sequential\n",
        "from keras.layers import Dense, Dropout, Activation\n",
        "from keras.layers import Embedding\n",
        "from keras.layers import Conv1D, GlobalMaxPooling1D\n",
        "from keras.preprocessing.text import Tokenizer\n",
        "from keras.utils import np_utils\n",
        "from tensorflow.keras.utils import to_categorical\n",
        "from keras.layers import Flatten\n",
        "from keras.layers.convolutional import MaxPooling1D\n",
        "\n",
        "from nltk.corpus import stopwords\n",
        "from nltk import word_tokenize\n",
        "\n"
      ]
    },
    {
      "cell_type": "code",
      "execution_count": null,
      "metadata": {
        "id": "-6sOFEvwm2n5"
      },
      "outputs": [],
      "source": [
        "depression_data = pd.read_csv('/content/drive/My Drive/Colab Notebooks/roman_urdu_all_data.csv')\n",
        "depression_data = depression_data.astype(str)"
      ]
    },
    {
      "cell_type": "code",
      "execution_count": null,
      "metadata": {
        "colab": {
          "base_uri": "https://localhost:8080/"
        },
        "id": "ch2hhEA2nZ_6",
        "outputId": "2fd9a64f-1e94-46ec-f34a-63a1698a59ab"
      },
      "outputs": [
        {
          "output_type": "execute_result",
          "data": {
            "text/plain": [
              "(9526, 8)"
            ]
          },
          "metadata": {},
          "execution_count": 5
        }
      ],
      "source": [
        "depression_data.shape"
      ]
    },
    {
      "cell_type": "code",
      "execution_count": null,
      "metadata": {
        "id": "MBn59jHOnoT2"
      },
      "outputs": [],
      "source": [
        "x = np.array(depression_data['text'])\n",
        "y = np.array(depression_data['Label'])\n",
        "y = y.astype(float)\n",
        "y = y.astype(int)"
      ]
    },
    {
      "cell_type": "code",
      "execution_count": null,
      "metadata": {
        "id": "n97orUDznoi8"
      },
      "outputs": [],
      "source": [
        "c=0\n",
        "max_features = 50000\n",
        "maxlen = 150\n",
        "batch_size = 32\n",
        "embedding_dims = 50\n",
        "filters = 250\n",
        "kernel_size = 3\n",
        "hidden_dims = 250\n",
        "epochs = 10\n",
        "P=[]\n",
        "R=[]\n",
        "F=[]"
      ]
    },
    {
      "cell_type": "code",
      "execution_count": null,
      "metadata": {
        "id": "JJQFAkA0nolQ"
      },
      "outputs": [],
      "source": [
        "# The maximum number of words to be used. (most frequent)\n",
        "MAX_NB_WORDS = 50000\n",
        "# Max number of words in each complaint.\n",
        "MAX_SEQUENCE_LENGTH = 250\n",
        "# This is fixed.\n",
        "EMBEDDING_DIM = 50\n",
        "tokenizer = Tokenizer(num_words=MAX_NB_WORDS)\n",
        "tokenizer.fit_on_texts(depression_data['text'].values)"
      ]
    },
    {
      "cell_type": "code",
      "execution_count": null,
      "metadata": {
        "id": "QsoAOXbEney1"
      },
      "outputs": [],
      "source": [
        "X_train, X_test, y_train, y_test = train_test_split(x, y, test_size=0.33, random_state=42)\n",
        "X_train = np.array(X_train)\n",
        "y_train = np.array(y_train)\n",
        "X_test = np.array(X_test)\n",
        "y_test = np.array(y_test)"
      ]
    },
    {
      "cell_type": "code",
      "execution_count": null,
      "metadata": {
        "id": "abmAqkJd1A1E"
      },
      "outputs": [],
      "source": [
        "X_train = tokenizer.texts_to_sequences(X_train)\n",
        "X_test = tokenizer.texts_to_sequences(X_test)"
      ]
    },
    {
      "cell_type": "code",
      "execution_count": null,
      "metadata": {
        "id": "12pf9VxA1RqY"
      },
      "outputs": [],
      "source": [
        "X_train = sequence.pad_sequences(X_train, maxlen=maxlen)\n",
        "X_test = sequence.pad_sequences(X_test, maxlen=maxlen)"
      ]
    },
    {
      "cell_type": "code",
      "execution_count": null,
      "metadata": {
        "colab": {
          "base_uri": "https://localhost:8080/"
        },
        "id": "QSLGazRD4sG5",
        "outputId": "16fc4d0c-bb92-4178-a7c9-bcc0c6644b40"
      },
      "outputs": [
        {
          "output_type": "stream",
          "name": "stdout",
          "text": [
            "[0 1]\n"
          ]
        }
      ],
      "source": [
        "print(np.unique(y_test))"
      ]
    },
    {
      "cell_type": "markdown",
      "metadata": {
        "id": "M4sQOUJte-P6"
      },
      "source": [
        "# CNN"
      ]
    },
    {
      "cell_type": "code",
      "execution_count": null,
      "metadata": {
        "colab": {
          "base_uri": "https://localhost:8080/"
        },
        "id": "T28YJPbS32cr",
        "outputId": "22da7cbe-b768-4510-8770-719dd5aa10b2"
      },
      "outputs": [
        {
          "output_type": "stream",
          "name": "stdout",
          "text": [
            "Model: \"sequential\"\n",
            "_________________________________________________________________\n",
            " Layer (type)                Output Shape              Param #   \n",
            "=================================================================\n",
            " embedding (Embedding)       (None, 150, 50)           2500000   \n",
            "                                                                 \n",
            " conv1d (Conv1D)             (None, 150, 128)          25728     \n",
            "                                                                 \n",
            " max_pooling1d (MaxPooling1D  (None, 75, 128)          0         \n",
            " )                                                               \n",
            "                                                                 \n",
            " conv1d_1 (Conv1D)           (None, 75, 64)            32832     \n",
            "                                                                 \n",
            " max_pooling1d_1 (MaxPooling  (None, 37, 64)           0         \n",
            " 1D)                                                             \n",
            "                                                                 \n",
            " conv1d_2 (Conv1D)           (None, 37, 32)            8224      \n",
            "                                                                 \n",
            " max_pooling1d_2 (MaxPooling  (None, 18, 32)           0         \n",
            " 1D)                                                             \n",
            "                                                                 \n",
            " flatten (Flatten)           (None, 576)               0         \n",
            "                                                                 \n",
            " dense (Dense)               (None, 256)               147712    \n",
            "                                                                 \n",
            " dense_1 (Dense)             (None, 1)                 257       \n",
            "                                                                 \n",
            "=================================================================\n",
            "Total params: 2,714,753\n",
            "Trainable params: 2,714,753\n",
            "Non-trainable params: 0\n",
            "_________________________________________________________________\n"
          ]
        }
      ],
      "source": [
        "import tensorflow as tf \n",
        "model = Sequential() \n",
        "model.add(Embedding(max_features, embedding_dims, input_length=maxlen))\n",
        "# model.add(Conv1D(32, 3, padding='same', activation='relu'))\n",
        "# model.add(MaxPooling1D())\n",
        "# model.add(Flatten())\n",
        "# model.add(Dense(250, activation='relu'))\n",
        "# model.add(Dense(1, activation='sigmoid'))\n",
        "# model.compile(loss='binary_crossentropy', optimizer='adam', metrics=['accuracy'])\n",
        "# model.summary()\n",
        "\n",
        "model.add(Conv1D(filters=128, kernel_size=4, padding='same', activation='relu'))\n",
        "model.add(MaxPooling1D(pool_size=2))\n",
        "model.add(Conv1D(filters=64, kernel_size=4, padding='same', activation='relu'))\n",
        "model.add(MaxPooling1D(pool_size=2))\n",
        "model.add(Conv1D(filters=32, kernel_size=4, padding='same', activation='relu'))\n",
        "model.add(MaxPooling1D(pool_size=2))\n",
        "model.add(Flatten())\n",
        "model.add(Dense(256, activation='relu'))\n",
        "model.add(Dense(1, activation='sigmoid'))\n",
        "model.compile(loss='binary_crossentropy', optimizer='adam', metrics=['accuracy'])\n",
        "model.summary()"
      ]
    },
    {
      "cell_type": "code",
      "execution_count": null,
      "metadata": {
        "colab": {
          "base_uri": "https://localhost:8080/"
        },
        "id": "jBdPutQJ1ZBe",
        "outputId": "49903666-90ee-4a3c-c48d-3184bb235db7"
      },
      "outputs": [
        {
          "output_type": "stream",
          "name": "stdout",
          "text": [
            "Epoch 1/10\n",
            "200/200 - 18s - loss: 0.3861 - accuracy: 0.8330 - val_loss: 0.2562 - val_accuracy: 0.8375 - 18s/epoch - 89ms/step\n",
            "Epoch 2/10\n",
            "200/200 - 16s - loss: 0.1673 - accuracy: 0.9243 - val_loss: 0.2498 - val_accuracy: 0.8820 - 16s/epoch - 80ms/step\n",
            "Epoch 3/10\n",
            "200/200 - 17s - loss: 0.0779 - accuracy: 0.9712 - val_loss: 0.3015 - val_accuracy: 0.8849 - 17s/epoch - 85ms/step\n",
            "Epoch 4/10\n",
            "200/200 - 18s - loss: 0.0436 - accuracy: 0.9867 - val_loss: 0.3206 - val_accuracy: 0.8795 - 18s/epoch - 92ms/step\n",
            "Epoch 5/10\n",
            "200/200 - 16s - loss: 0.0286 - accuracy: 0.9914 - val_loss: 0.4289 - val_accuracy: 0.8775 - 16s/epoch - 79ms/step\n",
            "Epoch 6/10\n",
            "200/200 - 16s - loss: 0.0162 - accuracy: 0.9956 - val_loss: 0.4651 - val_accuracy: 0.8795 - 16s/epoch - 79ms/step\n",
            "Epoch 7/10\n",
            "200/200 - 16s - loss: 0.0117 - accuracy: 0.9967 - val_loss: 0.5390 - val_accuracy: 0.8766 - 16s/epoch - 80ms/step\n",
            "Epoch 8/10\n",
            "200/200 - 16s - loss: 0.0121 - accuracy: 0.9969 - val_loss: 0.5131 - val_accuracy: 0.8725 - 16s/epoch - 79ms/step\n",
            "Epoch 9/10\n",
            "200/200 - 16s - loss: 0.0086 - accuracy: 0.9973 - val_loss: 0.7082 - val_accuracy: 0.8712 - 16s/epoch - 79ms/step\n",
            "Epoch 10/10\n",
            "200/200 - 16s - loss: 0.0073 - accuracy: 0.9972 - val_loss: 0.8554 - val_accuracy: 0.8655 - 16s/epoch - 78ms/step\n",
            "Accuracy: 86.55%\n"
          ]
        }
      ],
      "source": [
        "history = model.fit(X_train, y_train, batch_size=batch_size, epochs=epochs, validation_data=(X_test, y_test), verbose=2)\n",
        "# Getting score metrics from our model\n",
        "scores = model.evaluate(X_test, y_test, verbose=0)\n",
        "# Displays the accuracy of correct sentiment prediction over test data\n",
        "print(\"Accuracy: %.2f%%\" % (scores[1]*100))"
      ]
    },
    {
      "cell_type": "code",
      "execution_count": null,
      "metadata": {
        "colab": {
          "base_uri": "https://localhost:8080/"
        },
        "id": "Xq2l3Bs_-Ynf",
        "outputId": "3dab7571-6238-4285-9d6c-22c7d155306d"
      },
      "outputs": [
        {
          "output_type": "stream",
          "name": "stdout",
          "text": [
            "3144\n",
            "3144\n"
          ]
        }
      ],
      "source": [
        "CNN_test_pridict = model.predict(X_test) \n",
        "arr = []\n",
        "for i in range(len(CNN_test_pridict)):\n",
        "  if CNN_test_pridict[i]>=0.5:\n",
        "    arr.append(1)\n",
        "  else:\n",
        "    arr.append(0)\n",
        "print(len(arr))\n",
        "print(len(y_test))"
      ]
    },
    {
      "cell_type": "code",
      "execution_count": null,
      "metadata": {
        "colab": {
          "base_uri": "https://localhost:8080/"
        },
        "id": "fpdxRZwk9BtJ",
        "outputId": "6845809d-2ca7-49b4-af5b-0dff31f6c1dd"
      },
      "outputs": [
        {
          "output_type": "stream",
          "name": "stdout",
          "text": [
            "fbeta_score on Testing Data is: [0.91765622 0.63249348]\n"
          ]
        }
      ],
      "source": [
        "precision, recall, fbeta_score, support = precision_recall_fscore_support(y_test,arr)\n",
        "print (\"fbeta_score on Testing Data is:\", fbeta_score)"
      ]
    },
    {
      "cell_type": "markdown",
      "metadata": {
        "id": "SRpJjdLSfCiE"
      },
      "source": [
        "# LSTM"
      ]
    },
    {
      "cell_type": "code",
      "execution_count": null,
      "metadata": {
        "colab": {
          "base_uri": "https://localhost:8080/"
        },
        "id": "bkZlEkIVfEuF",
        "outputId": "212ce0e3-2591-4bf2-9db3-9c6a324d36bc"
      },
      "outputs": [
        {
          "output_type": "stream",
          "name": "stdout",
          "text": [
            "Model: \"sequential_2\"\n",
            "_________________________________________________________________\n",
            " Layer (type)                Output Shape              Param #   \n",
            "=================================================================\n",
            " embedding_2 (Embedding)     (None, 150, 50)           2500000   \n",
            "                                                                 \n",
            " lstm_2 (LSTM)               (None, 128)               91648     \n",
            "                                                                 \n",
            " dropout_1 (Dropout)         (None, 128)               0         \n",
            "                                                                 \n",
            " dense_2 (Dense)             (None, 32)                4128      \n",
            "                                                                 \n",
            " dropout_2 (Dropout)         (None, 32)                0         \n",
            "                                                                 \n",
            " dense_3 (Dense)             (None, 1)                 33        \n",
            "                                                                 \n",
            "=================================================================\n",
            "Total params: 2,595,809\n",
            "Trainable params: 2,595,809\n",
            "Non-trainable params: 0\n",
            "_________________________________________________________________\n"
          ]
        }
      ],
      "source": [
        "model = Sequential() \n",
        "model.add(Embedding(max_features, embedding_dims, input_length=maxlen))\n",
        "model.add(LSTM(128, dropout=0.2, recurrent_dropout=0.2))\n",
        "model.add(Dropout(0.2))\n",
        "model.add(Dense(32,activation='relu'))\n",
        "model.add(Dropout(0.2))\n",
        "model.add(Dense(1, activation='sigmoid'))\n",
        "model.compile(loss='binary_crossentropy', optimizer='adam',  metrics=['accuracy'])\n",
        "model.summary()"
      ]
    },
    {
      "cell_type": "code",
      "execution_count": null,
      "metadata": {
        "colab": {
          "base_uri": "https://localhost:8080/"
        },
        "id": "jYlvnpouhXf7",
        "outputId": "850bcdae-f760-4a0b-87df-ef29111f3d1c"
      },
      "outputs": [
        {
          "output_type": "stream",
          "name": "stdout",
          "text": [
            "Epoch 1/10\n",
            "200/200 - 93s - loss: 0.3907 - accuracy: 0.8372 - val_loss: 0.2198 - val_accuracy: 0.8842 - 93s/epoch - 467ms/step\n",
            "Epoch 2/10\n",
            "200/200 - 92s - loss: 0.1728 - accuracy: 0.9246 - val_loss: 0.2348 - val_accuracy: 0.8852 - 92s/epoch - 460ms/step\n",
            "Epoch 3/10\n",
            "200/200 - 93s - loss: 0.1149 - accuracy: 0.9575 - val_loss: 0.3124 - val_accuracy: 0.8877 - 93s/epoch - 463ms/step\n",
            "Epoch 4/10\n",
            "200/200 - 89s - loss: 0.0765 - accuracy: 0.9723 - val_loss: 0.3385 - val_accuracy: 0.8779 - 89s/epoch - 444ms/step\n",
            "Epoch 5/10\n",
            "200/200 - 90s - loss: 0.0521 - accuracy: 0.9842 - val_loss: 0.3999 - val_accuracy: 0.8836 - 90s/epoch - 449ms/step\n",
            "Epoch 6/10\n",
            "200/200 - 91s - loss: 0.0396 - accuracy: 0.9879 - val_loss: 0.4482 - val_accuracy: 0.8820 - 91s/epoch - 456ms/step\n",
            "Epoch 7/10\n",
            "200/200 - 89s - loss: 0.0298 - accuracy: 0.9903 - val_loss: 0.4641 - val_accuracy: 0.8747 - 89s/epoch - 444ms/step\n",
            "Epoch 8/10\n",
            "200/200 - 89s - loss: 0.0195 - accuracy: 0.9931 - val_loss: 0.5315 - val_accuracy: 0.8693 - 89s/epoch - 443ms/step\n",
            "Epoch 9/10\n",
            "200/200 - 88s - loss: 0.0154 - accuracy: 0.9955 - val_loss: 0.5903 - val_accuracy: 0.8725 - 88s/epoch - 441ms/step\n",
            "Epoch 10/10\n",
            "200/200 - 91s - loss: 0.0236 - accuracy: 0.9925 - val_loss: 0.3876 - val_accuracy: 0.8645 - 91s/epoch - 457ms/step\n",
            "Accuracy: 86.45%\n"
          ]
        }
      ],
      "source": [
        "history = model.fit(X_train, y_train, batch_size=batch_size, epochs=epochs, validation_data=(X_test, y_test), verbose=2)\n",
        "# Getting score metrics from our model\n",
        "scores = model.evaluate(X_test, y_test, verbose=0)\n",
        "# Displays the accuracy of correct sentiment prediction over test data\n",
        "print(\"Accuracy: %.2f%%\" % (scores[1]*100))"
      ]
    },
    {
      "cell_type": "code",
      "execution_count": null,
      "metadata": {
        "colab": {
          "base_uri": "https://localhost:8080/"
        },
        "id": "fLpG48tCiHFQ",
        "outputId": "ddc3cf24-2025-4146-a96b-077a04949c4d"
      },
      "outputs": [
        {
          "output_type": "stream",
          "name": "stdout",
          "text": [
            "3144\n",
            "3144\n"
          ]
        }
      ],
      "source": [
        "CNN_test_pridict = model.predict(X_test) \n",
        "arr = []\n",
        "for i in range(len(CNN_test_pridict)):\n",
        "  if CNN_test_pridict[i]>=0.5:\n",
        "    arr.append(1)\n",
        "  else:\n",
        "    arr.append(0)\n",
        "print(len(arr))\n",
        "print(len(y_test))"
      ]
    },
    {
      "cell_type": "code",
      "execution_count": null,
      "metadata": {
        "colab": {
          "base_uri": "https://localhost:8080/"
        },
        "id": "LSP1izGSiJ72",
        "outputId": "6a5a4852-9878-4a34-e3f6-2b1eff6ba5b5"
      },
      "outputs": [
        {
          "output_type": "stream",
          "name": "stdout",
          "text": [
            "fbeta_score on Testing Data is: [0.9161087  0.64793388]\n"
          ]
        }
      ],
      "source": [
        "precision, recall, fbeta_score, support = precision_recall_fscore_support(y_test,arr)\n",
        "print (\"fbeta_score on Testing Data is:\", fbeta_score)"
      ]
    },
    {
      "cell_type": "markdown",
      "metadata": {
        "id": "1-w2XcuGlUI7"
      },
      "source": [
        "# Bi-LSTM"
      ]
    },
    {
      "cell_type": "code",
      "execution_count": null,
      "metadata": {
        "colab": {
          "base_uri": "https://localhost:8080/"
        },
        "id": "2fliYedMlX-p",
        "outputId": "82ddb1b8-5fe2-4ae8-e3bf-5242f3284a68"
      },
      "outputs": [
        {
          "output_type": "stream",
          "name": "stdout",
          "text": [
            "Model: \"sequential_4\"\n",
            "_________________________________________________________________\n",
            " Layer (type)                Output Shape              Param #   \n",
            "=================================================================\n",
            " embedding_4 (Embedding)     (None, 150, 50)           2500000   \n",
            "                                                                 \n",
            " bidirectional (Bidirectiona  (None, 256)              183296    \n",
            " l)                                                              \n",
            "                                                                 \n",
            " dense_7 (Dense)             (None, 1)                 257       \n",
            "                                                                 \n",
            "=================================================================\n",
            "Total params: 2,683,553\n",
            "Trainable params: 2,683,553\n",
            "Non-trainable params: 0\n",
            "_________________________________________________________________\n"
          ]
        }
      ],
      "source": [
        "model = Sequential() \n",
        "model.add(Embedding(max_features, embedding_dims, input_length=maxlen))\n",
        "model.add(Bidirectional(LSTM(128, dropout=0.2, recurrent_dropout=0.2)))\n",
        "model.add(Dense(1, activation='sigmoid'))\n",
        "model.compile(loss='binary_crossentropy', optimizer='adam',  metrics=[tf.keras.metrics.Precision(), tf.keras.metrics.Recall()])\n",
        "model.summary()"
      ]
    },
    {
      "cell_type": "code",
      "execution_count": null,
      "metadata": {
        "colab": {
          "base_uri": "https://localhost:8080/"
        },
        "id": "Z59D1GE0lYBH",
        "outputId": "bafbbd1e-7139-4181-d3f5-5ab294398f7b"
      },
      "outputs": [
        {
          "output_type": "stream",
          "name": "stdout",
          "text": [
            "Epoch 1/10\n",
            "200/200 - 163s - loss: 0.3582 - precision_3: 0.6270 - recall_3: 0.3520 - val_loss: 0.2163 - val_precision_3: 0.6929 - val_recall_3: 0.6424 - 163s/epoch - 817ms/step\n",
            "Epoch 2/10\n",
            "200/200 - 154s - loss: 0.1731 - precision_3: 0.7645 - recall_3: 0.8590 - val_loss: 0.2125 - val_precision_3: 0.6894 - val_recall_3: 0.7205 - 154s/epoch - 771ms/step\n",
            "Epoch 3/10\n",
            "200/200 - 155s - loss: 0.1232 - precision_3: 0.8471 - recall_3: 0.9044 - val_loss: 0.2392 - val_precision_3: 0.7094 - val_recall_3: 0.6823 - 155s/epoch - 774ms/step\n",
            "Epoch 4/10\n",
            "200/200 - 154s - loss: 0.0791 - precision_3: 0.9155 - recall_3: 0.9373 - val_loss: 0.2845 - val_precision_3: 0.6878 - val_recall_3: 0.7153 - 154s/epoch - 770ms/step\n",
            "Epoch 5/10\n",
            "200/200 - 154s - loss: 0.0558 - precision_3: 0.9398 - recall_3: 0.9530 - val_loss: 0.3328 - val_precision_3: 0.7165 - val_recall_3: 0.5573 - 154s/epoch - 769ms/step\n",
            "Epoch 6/10\n",
            "200/200 - 156s - loss: 0.0364 - precision_3: 0.9633 - recall_3: 0.9744 - val_loss: 0.4062 - val_precision_3: 0.7284 - val_recall_3: 0.5260 - 156s/epoch - 779ms/step\n",
            "Epoch 7/10\n",
            "200/200 - 154s - loss: 0.0389 - precision_3: 0.9600 - recall_3: 0.9687 - val_loss: 0.4098 - val_precision_3: 0.6419 - val_recall_3: 0.7656 - 154s/epoch - 768ms/step\n",
            "Epoch 8/10\n",
            "200/200 - 152s - loss: 0.0269 - precision_3: 0.9745 - recall_3: 0.9786 - val_loss: 0.4338 - val_precision_3: 0.6453 - val_recall_3: 0.7517 - 152s/epoch - 758ms/step\n",
            "Epoch 9/10\n",
            "200/200 - 155s - loss: 0.0217 - precision_3: 0.9770 - recall_3: 0.9802 - val_loss: 0.4804 - val_precision_3: 0.5940 - val_recall_3: 0.7517 - 155s/epoch - 773ms/step\n",
            "Epoch 10/10\n",
            "200/200 - 154s - loss: 0.0202 - precision_3: 0.9787 - recall_3: 0.9827 - val_loss: 0.4743 - val_precision_3: 0.6673 - val_recall_3: 0.6094 - 154s/epoch - 770ms/step\n",
            "Accuracy: 66.73%\n"
          ]
        }
      ],
      "source": [
        "history = model.fit(X_train, y_train, batch_size=batch_size, epochs=epochs, validation_data=(X_test, y_test), verbose=2)\n",
        "# Getting score metrics from our model\n",
        "scores = model.evaluate(X_test, y_test, verbose=0)\n",
        "# Displays the accuracy of correct sentiment prediction over test data\n",
        "print(\"Accuracy: %.2f%%\" % (scores[1]*100))"
      ]
    },
    {
      "cell_type": "code",
      "execution_count": null,
      "metadata": {
        "id": "HzKiNi73lYDd",
        "colab": {
          "base_uri": "https://localhost:8080/"
        },
        "outputId": "ab4e8308-52e9-47a2-caaf-2cfd004a7532"
      },
      "outputs": [
        {
          "output_type": "stream",
          "name": "stdout",
          "text": [
            "3144\n",
            "3144\n"
          ]
        }
      ],
      "source": [
        "CNN_test_pridict = model.predict(X_test) \n",
        "arr = []\n",
        "for i in range(len(CNN_test_pridict)):\n",
        "  if CNN_test_pridict[i]>=0.5:\n",
        "    arr.append(1)\n",
        "  else:\n",
        "    arr.append(0)\n",
        "print(len(arr))\n",
        "print(len(y_test))"
      ]
    },
    {
      "cell_type": "code",
      "execution_count": null,
      "metadata": {
        "id": "m-nyNhb5l3OJ",
        "colab": {
          "base_uri": "https://localhost:8080/"
        },
        "outputId": "00895072-64a6-497b-bfa2-000446690fdb"
      },
      "outputs": [
        {
          "output_type": "stream",
          "name": "stdout",
          "text": [
            "fbeta_score on Testing Data is: [0.92286926 0.63702359]\n"
          ]
        }
      ],
      "source": [
        "precision, recall, fbeta_score, support = precision_recall_fscore_support(y_test,arr)\n",
        "print (\"fbeta_score on Testing Data is:\", fbeta_score)"
      ]
    }
  ],
  "metadata": {
    "colab": {
      "collapsed_sections": [],
      "name": "Deep_learning_Experiments.ipynb",
      "provenance": []
    },
    "kernelspec": {
      "display_name": "Python 3",
      "name": "python3"
    },
    "language_info": {
      "name": "python"
    }
  },
  "nbformat": 4,
  "nbformat_minor": 0
}